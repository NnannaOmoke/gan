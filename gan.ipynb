{
 "cells": [
  {
   "cell_type": "code",
   "execution_count": 1,
   "metadata": {},
   "outputs": [],
   "source": [
    "import pandas as pan\n",
    "import numpy as np\n",
    "import matplotlib.pyplot as plotter\n",
    "import seaborn as sns\n",
    "import tensorflow as tf\n",
    "from keras.datasets import mnist\n",
    "from keras.models import Sequential\n",
    "from keras.layers import Dense, Flatten, Reshape"
   ]
  },
  {
   "cell_type": "code",
   "execution_count": 2,
   "metadata": {},
   "outputs": [],
   "source": [
    "(feature_train, label_train), (feature_test, label_test) = mnist.load_data()\n"
   ]
  },
  {
   "cell_type": "code",
   "execution_count": 3,
   "metadata": {},
   "outputs": [
    {
     "data": {
      "text/plain": [
       "<matplotlib.image.AxesImage at 0x1f8539245d0>"
      ]
     },
     "execution_count": 3,
     "metadata": {},
     "output_type": "execute_result"
    },
    {
     "data": {
      "image/png": "[encoded data removed]",
      "text/plain": [
       "<Figure size 640x480 with 1 Axes>"
      ]
     },
     "metadata": {},
     "output_type": "display_data"
    }
   ],
   "source": [
    "plotter.imshow(feature_train[0], cmap = \"binary\")"
   ]
  },
  {
   "cell_type": "code",
   "execution_count": 4,
   "metadata": {},
   "outputs": [],
   "source": [
    "ft_zeros_only = feature_train[label_train == 0]\n",
    "# ftest_zeros_only = feature_test[label_test == 0]\n",
    "np.random.seed(42)\n",
    "tf.random.set_seed(42)"
   ]
  },
  {
   "cell_type": "code",
   "execution_count": 5,
   "metadata": {},
   "outputs": [],
   "source": [
    "discriminator = Sequential()\n",
    "discriminator.add(Flatten(input_shape = (28, 28)))\n",
    "discriminator.add(Dense(units = 400, activation = \"relu\"))\n",
    "discriminator.add(Dense(units = 200, activation = \"relu\"))\n",
    "discriminator.add(Dense(units = 100, activation = \"relu\"))\n",
    "discriminator.add(Dense(1, activation = \"sigmoid\"))\n",
    "discriminator.compile(loss = \"binary_crossentropy\", optimizer = \"adam\")"
   ]
  },
  {
   "cell_type": "code",
   "execution_count": 6,
   "metadata": {},
   "outputs": [],
   "source": [
    "generator = Sequential()\n",
    "generator.add(Dense(units = 100, activation = \"relu\", input_shape = [100]))\n",
    "generator.add(Dense(units = 150, activation = \"relu\"))\n",
    "generator.add(Dense(units = 200, activation = \"relu\"))\n",
    "generator.add(Dense(units = 300, activation = \"relu\"))\n",
    "generator.add(Dense(units = 450, activation = \"relu\"))\n",
    "generator.add(Dense(units = 784, activation = \"sigmoid\"))\n",
    "generator.add(Reshape((28, 28)))"
   ]
  },
  {
   "cell_type": "code",
   "execution_count": 7,
   "metadata": {},
   "outputs": [],
   "source": [
    "gan = Sequential([generator, discriminator])\n",
    "generator.trainable = False\n",
    "gan.compile(loss = \"binary_crossentropy\", optimizer = \"adam\")"
   ]
  },
  {
   "cell_type": "code",
   "execution_count": 8,
   "metadata": {},
   "outputs": [],
   "source": [
    "batch_size = 32\n",
    "data = ft_zeros_only\n",
    "dataset = tf.data.Dataset.from_tensor_slices(data).shuffle(buffer_size = 1000)\n",
    "dataset = dataset.batch(batch_size, drop_remainder = True).prefetch(1)"
   ]
  },
  {
   "cell_type": "code",
   "execution_count": 9,
   "metadata": {},
   "outputs": [
    {
     "name": "stdout",
     "output_type": "stream",
     "text": [
      "Model: \"sequential_1\"\n",
      "_________________________________________________________________\n",
      " Layer (type)                Output Shape              Param #   \n",
      "=================================================================\n",
      " dense_4 (Dense)             (None, 100)               10100     \n",
      "                                                                 \n",
      " dense_5 (Dense)             (None, 150)               15150     \n",
      "                                                                 \n",
      " dense_6 (Dense)             (None, 200)               30200     \n",
      "                                                                 \n",
      " dense_7 (Dense)             (None, 300)               60300     \n",
      "                                                                 \n",
      " dense_8 (Dense)             (None, 450)               135450    \n",
      "                                                                 \n",
      " dense_9 (Dense)             (None, 784)               353584    \n",
      "                                                                 \n",
      " reshape (Reshape)           (None, 28, 28)            0         \n",
      "                                                                 \n",
      "=================================================================\n",
      "Total params: 604,784\n",
      "Trainable params: 0\n",
      "Non-trainable params: 604,784\n",
      "_________________________________________________________________\n"
     ]
    }
   ],
   "source": [
    "gan.layers[0].summary()"
   ]
  },
  {
   "cell_type": "code",
   "execution_count": 10,
   "metadata": {},
   "outputs": [
    {
     "name": "stdout",
     "output_type": "stream",
     "text": [
      "(32, 28, 28)\n",
      "(32, 28, 28)\n",
      "(32, 28, 28)\n",
      "(32, 28, 28)\n",
      "(32, 28, 28)\n",
      "(32, 28, 28)\n",
      "(32, 28, 28)\n",
      "(32, 28, 28)\n",
      "(32, 28, 28)\n",
      "(32, 28, 28)\n",
      "(32, 28, 28)\n",
      "(32, 28, 28)\n",
      "(32, 28, 28)\n",
      "(32, 28, 28)\n",
      "(32, 28, 28)\n",
      "(32, 28, 28)\n",
      "(32, 28, 28)\n",
      "(32, 28, 28)\n",
      "(32, 28, 28)\n",
      "(32, 28, 28)\n",
      "(32, 28, 28)\n",
      "(32, 28, 28)\n",
      "(32, 28, 28)\n",
      "(32, 28, 28)\n",
      "(32, 28, 28)\n",
      "(32, 28, 28)\n",
      "(32, 28, 28)\n",
      "(32, 28, 28)\n",
      "(32, 28, 28)\n",
      "(32, 28, 28)\n",
      "(32, 28, 28)\n",
      "(32, 28, 28)\n",
      "(32, 28, 28)\n",
      "(32, 28, 28)\n",
      "(32, 28, 28)\n",
      "(32, 28, 28)\n",
      "(32, 28, 28)\n",
      "(32, 28, 28)\n",
      "(32, 28, 28)\n",
      "(32, 28, 28)\n",
      "(32, 28, 28)\n",
      "(32, 28, 28)\n",
      "(32, 28, 28)\n",
      "(32, 28, 28)\n",
      "(32, 28, 28)\n",
      "(32, 28, 28)\n",
      "(32, 28, 28)\n",
      "(32, 28, 28)\n",
      "(32, 28, 28)\n",
      "(32, 28, 28)\n",
      "(32, 28, 28)\n",
      "(32, 28, 28)\n",
      "(32, 28, 28)\n",
      "(32, 28, 28)\n",
      "(32, 28, 28)\n",
      "(32, 28, 28)\n",
      "(32, 28, 28)\n",
      "(32, 28, 28)\n",
      "(32, 28, 28)\n",
      "(32, 28, 28)\n",
      "(32, 28, 28)\n",
      "(32, 28, 28)\n",
      "(32, 28, 28)\n",
      "(32, 28, 28)\n",
      "(32, 28, 28)\n",
      "(32, 28, 28)\n",
      "(32, 28, 28)\n",
      "(32, 28, 28)\n",
      "(32, 28, 28)\n",
      "(32, 28, 28)\n",
      "(32, 28, 28)\n",
      "(32, 28, 28)\n",
      "(32, 28, 28)\n",
      "(32, 28, 28)\n",
      "(32, 28, 28)\n",
      "(32, 28, 28)\n",
      "(32, 28, 28)\n",
      "(32, 28, 28)\n",
      "(32, 28, 28)\n",
      "(32, 28, 28)\n",
      "(32, 28, 28)\n",
      "(32, 28, 28)\n",
      "(32, 28, 28)\n",
      "(32, 28, 28)\n",
      "(32, 28, 28)\n",
      "(32, 28, 28)\n",
      "(32, 28, 28)\n",
      "(32, 28, 28)\n",
      "(32, 28, 28)\n",
      "(32, 28, 28)\n",
      "(32, 28, 28)\n",
      "(32, 28, 28)\n",
      "(32, 28, 28)\n",
      "(32, 28, 28)\n",
      "(32, 28, 28)\n",
      "(32, 28, 28)\n",
      "(32, 28, 28)\n",
      "(32, 28, 28)\n",
      "(32, 28, 28)\n",
      "(32, 28, 28)\n",
      "(32, 28, 28)\n",
      "(32, 28, 28)\n",
      "(32, 28, 28)\n",
      "(32, 28, 28)\n",
      "(32, 28, 28)\n",
      "(32, 28, 28)\n",
      "(32, 28, 28)\n",
      "(32, 28, 28)\n",
      "(32, 28, 28)\n",
      "(32, 28, 28)\n",
      "(32, 28, 28)\n",
      "(32, 28, 28)\n",
      "(32, 28, 28)\n",
      "(32, 28, 28)\n",
      "(32, 28, 28)\n",
      "(32, 28, 28)\n",
      "(32, 28, 28)\n",
      "(32, 28, 28)\n",
      "(32, 28, 28)\n",
      "(32, 28, 28)\n",
      "(32, 28, 28)\n",
      "(32, 28, 28)\n",
      "(32, 28, 28)\n",
      "(32, 28, 28)\n",
      "(32, 28, 28)\n",
      "(32, 28, 28)\n",
      "(32, 28, 28)\n",
      "(32, 28, 28)\n",
      "(32, 28, 28)\n",
      "(32, 28, 28)\n",
      "(32, 28, 28)\n",
      "(32, 28, 28)\n",
      "(32, 28, 28)\n",
      "(32, 28, 28)\n",
      "(32, 28, 28)\n",
      "(32, 28, 28)\n",
      "(32, 28, 28)\n",
      "(32, 28, 28)\n",
      "(32, 28, 28)\n",
      "(32, 28, 28)\n",
      "(32, 28, 28)\n",
      "(32, 28, 28)\n",
      "(32, 28, 28)\n",
      "(32, 28, 28)\n",
      "(32, 28, 28)\n",
      "(32, 28, 28)\n",
      "(32, 28, 28)\n",
      "(32, 28, 28)\n",
      "(32, 28, 28)\n",
      "(32, 28, 28)\n",
      "(32, 28, 28)\n",
      "(32, 28, 28)\n",
      "(32, 28, 28)\n",
      "(32, 28, 28)\n",
      "(32, 28, 28)\n",
      "(32, 28, 28)\n",
      "(32, 28, 28)\n",
      "(32, 28, 28)\n",
      "(32, 28, 28)\n",
      "(32, 28, 28)\n",
      "(32, 28, 28)\n",
      "(32, 28, 28)\n",
      "(32, 28, 28)\n",
      "(32, 28, 28)\n",
      "(32, 28, 28)\n",
      "(32, 28, 28)\n",
      "(32, 28, 28)\n",
      "(32, 28, 28)\n",
      "(32, 28, 28)\n",
      "(32, 28, 28)\n",
      "(32, 28, 28)\n",
      "(32, 28, 28)\n",
      "(32, 28, 28)\n",
      "(32, 28, 28)\n",
      "(32, 28, 28)\n",
      "(32, 28, 28)\n",
      "(32, 28, 28)\n",
      "(32, 28, 28)\n",
      "(32, 28, 28)\n",
      "(32, 28, 28)\n",
      "(32, 28, 28)\n",
      "(32, 28, 28)\n",
      "(32, 28, 28)\n",
      "(32, 28, 28)\n",
      "(32, 28, 28)\n"
     ]
    }
   ],
   "source": [
    "count = 0\n",
    "for stuff in dataset:\n",
    "    print(stuff.shape)\n"
   ]
  },
  {
   "cell_type": "code",
   "execution_count": 11,
   "metadata": {},
   "outputs": [
    {
     "name": "stdout",
     "output_type": "stream",
     "text": [
      "Training Epoch: \n",
      "currently in batch 10 of 185\n",
      "currently in batch 20 of 185\n",
      "currently in batch 30 of 185\n",
      "currently in batch 40 of 185\n",
      "currently in batch 50 of 185\n",
      "currently in batch 60 of 185\n",
      "currently in batch 70 of 185\n",
      "currently in batch 80 of 185\n",
      "currently in batch 90 of 185\n",
      "currently in batch 100 of 185\n",
      "currently in batch 110 of 185\n",
      "currently in batch 120 of 185\n",
      "currently in batch 130 of 185\n",
      "currently in batch 140 of 185\n",
      "currently in batch 150 of 185\n",
      "currently in batch 160 of 185\n",
      "currently in batch 170 of 185\n",
      "currently in batch 180 of 185\n"
     ]
    }
   ],
   "source": [
    "counter = 1\n",
    "gener, discrim = gan.layers\n",
    "for i in range(counter):\n",
    "    print(\"Training Epoch: \")\n",
    "    ind = 0\n",
    "    for t_batch in dataset:\n",
    "       ind += 1\n",
    "       if ind % 10 == 0:\n",
    "           print(f\"currently in batch {ind} of {(len(data)//batch_size)}\")\n",
    "       noise = tf.random.normal(shape = [batch_size, 100])\n",
    "       gen_images = gener(noise)\n",
    "       fake_imgs_vs_real_imgs = tf.concat([gen_images, tf.dtypes.cast(t_batch, tf.float32)], axis = 0)\n",
    "       label_one = tf.constant(np.concatenate([[[0.0]]* t_batch.shape[0], [[1.0]]* batch_size], axis = 0))\n",
    "       discrim.trainable = True\n",
    "       discrim.train_on_batch(x = fake_imgs_vs_real_imgs, y = label_one)\n",
    "       \n",
    "       noise_two = tf.random.normal(shape = [batch_size, 100])\n",
    "       label_two = tf.constant([[1.0]] * batch_size)\n",
    "       discrim.trainable = False\n",
    "       gan.train_on_batch(noise_two, label_two)"
   ]
  },
  {
   "cell_type": "code",
   "execution_count": 12,
   "metadata": {},
   "outputs": [],
   "source": [
    "more_noise = tf.random.normal(shape = (10, 100))"
   ]
  },
  {
   "cell_type": "code",
   "execution_count": 13,
   "metadata": {},
   "outputs": [],
   "source": [
    "images = generator(more_noise)"
   ]
  },
  {
   "cell_type": "code",
   "execution_count": 14,
   "metadata": {},
   "outputs": [
    {
     "data": {
      "text/plain": [
       "<matplotlib.image.AxesImage at 0x1f872eede50>"
      ]
     },
     "execution_count": 14,
     "metadata": {},
     "output_type": "execute_result"
    },
    {
     "data": {
      "image/png": "[encoded data removed]",
      "text/plain": [
       "<Figure size 640x480 with 1 Axes>"
      ]
     },
     "metadata": {},
     "output_type": "display_data"
    }
   ],
   "source": [
    "plotter.imshow(images[0])"
   ]
  }
 ],
 "metadata": {
  "kernelspec": {
   "display_name": "Python 3",
   "language": "python",
   "name": "python3"
  },
  "language_info": {
   "codemirror_mode": {
    "name": "ipython",
    "version": 3
   },
   "file_extension": ".py",
   "mimetype": "text/x-python",
   "name": "python",
   "nbconvert_exporter": "python",
   "pygments_lexer": "ipython3",
   "version": "3.11.2"
  },
  "orig_nbformat": 4
 },
 "nbformat": 4,
 "nbformat_minor": 2
}
